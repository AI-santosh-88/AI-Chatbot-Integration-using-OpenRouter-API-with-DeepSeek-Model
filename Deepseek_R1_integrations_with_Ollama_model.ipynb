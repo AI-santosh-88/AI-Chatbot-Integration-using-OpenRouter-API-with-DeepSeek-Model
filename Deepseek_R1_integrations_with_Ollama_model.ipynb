{
  "nbformat": 4,
  "nbformat_minor": 0,
  "metadata": {
    "colab": {
      "provenance": []
    },
    "kernelspec": {
      "name": "python3",
      "display_name": "Python 3"
    },
    "language_info": {
      "name": "python"
    }
  },
  "cells": [
    {
      "cell_type": "code",
      "execution_count": 1,
      "metadata": {
        "colab": {
          "base_uri": "https://localhost:8080/"
        },
        "id": "n2Baukq7h9ZJ",
        "outputId": "a5be4fab-662f-4e3c-e50f-8c2dc9292d67"
      },
      "outputs": [
        {
          "output_type": "stream",
          "name": "stdout",
          "text": [
            "Tue Feb 18 05:30:35 2025       \n",
            "+-----------------------------------------------------------------------------------------+\n",
            "| NVIDIA-SMI 550.54.15              Driver Version: 550.54.15      CUDA Version: 12.4     |\n",
            "|-----------------------------------------+------------------------+----------------------+\n",
            "| GPU  Name                 Persistence-M | Bus-Id          Disp.A | Volatile Uncorr. ECC |\n",
            "| Fan  Temp   Perf          Pwr:Usage/Cap |           Memory-Usage | GPU-Util  Compute M. |\n",
            "|                                         |                        |               MIG M. |\n",
            "|=========================================+========================+======================|\n",
            "|   0  Tesla T4                       Off |   00000000:00:04.0 Off |                    0 |\n",
            "| N/A   42C    P8              9W /   70W |       0MiB /  15360MiB |      0%      Default |\n",
            "|                                         |                        |                  N/A |\n",
            "+-----------------------------------------+------------------------+----------------------+\n",
            "                                                                                         \n",
            "+-----------------------------------------------------------------------------------------+\n",
            "| Processes:                                                                              |\n",
            "|  GPU   GI   CI        PID   Type   Process name                              GPU Memory |\n",
            "|        ID   ID                                                               Usage      |\n",
            "|=========================================================================================|\n",
            "|  No running processes found                                                             |\n",
            "+-----------------------------------------------------------------------------------------+\n"
          ]
        }
      ],
      "source": [
        "!nvidia-smi"
      ]
    },
    {
      "cell_type": "code",
      "source": [
        "from openai import OpenAI\n",
        "\n",
        "client = OpenAI(\n",
        "  base_url=\"https://openrouter.ai/api/v1\",\n",
        "  api_key=\"enter api key\",\n",
        ")\n",
        "\n",
        "completion = client.chat.completions.create(\n",
        "  extra_headers={\n",
        "    \"HTTP-Referer\": \"\", # Optional. Site URL for rankings on openrouter.ai.\n",
        "    \"X-Title\": \"\", # Optional. Site title for rankings on openrouter.ai.\n",
        "  },\n",
        "  extra_body={},\n",
        "  model=\"deepseek/deepseek-r1:free\",\n",
        "  messages=[\n",
        "    {\n",
        "      \"role\": \"user\",\n",
        "      \"content\": \"What is main tourist places in Newyork city?\"\n",
        "    }\n",
        "  ]\n",
        ")\n",
        "print(completion.choices[0].message.content)"
      ],
      "metadata": {
        "colab": {
          "base_uri": "https://localhost:8080/"
        },
        "id": "T7lTfVkJiYE4",
        "outputId": "ae140c20-7d56-4b85-88a1-85b91389055a"
      },
      "execution_count": 2,
      "outputs": [
        {
          "output_type": "stream",
          "name": "stdout",
          "text": [
            "New York City is a vibrant destination with iconic landmarks, cultural hotspots, and diverse neighborhoods. Here are **must-see attractions** for visitors:\n",
            "\n",
            "### **Iconic Landmarks**  \n",
            "1. **Statue of Liberty & Ellis Island**: Symbolizes freedom; access via ferry with museum exhibits on immigration history.  \n",
            "2. **Empire State Building**: Art Deco skyscraper offering panoramic views from its 86th and 102nd-floor observatories.  \n",
            "3. **One World Trade Center & 9/11 Memorial**: Visit the Freedom Tower observatory and the reflective memorial pools at Ground Zero.  \n",
            "\n",
            "### **Parks & Outdoor Spaces**  \n",
            "4. **Central Park**: Stroll, bike, or row a boat in this 843-acre green oasis. Highlights include Bethesda Terrace and Bow Bridge.  \n",
            "5. **The High Line**: Elevated park on a former rail line with gardens, art installations, and city views.  \n",
            "6. **Brooklyn Bridge**: Walk across this historic bridge for stunning Manhattan skyline views.  \n",
            "\n",
            "### **Cultural & Artistic Hotspots**  \n",
            "7. **Times Square**: Bustling hub with Broadway theaters, neon billboards, and lively energy (best at night).  \n",
            "8. **Museums**:  \n",
            "   - **Metropolitan Museum of Art**: Vast collection spanning 5,000 years.  \n",
            "   - **Museum of Modern Art (MoMA)**: Home to masterpieces like Van Gogh’s *Starry Night*.  \n",
            "   - **American Museum of Natural History**: Famous for dinosaur fossils and the Hayden Planetarium.  \n",
            "9. **Broadway**: Catch a world-class theater production in the Theater District.  \n",
            "\n",
            "### **Neighborhoods & Local Flavor**  \n",
            "10. **Fifth Avenue**: High-end shopping (e.g., Tiffany & Co., Saks) and landmarks like St. Patrick’s Cathedral.  \n",
            "11. **Rockefeller Center**: Winter ice-skating, summer plaza events, and Top of the Rock observatory views.  \n",
            "12. **Grand Central Terminal**: Historic Beaux-Arts train station with celestial ceiling murals.  \n",
            "13. **Coney Island**: Classic boardwalk, amusement rides (Cyclone roller coaster), and Nathan’s Famous hot dogs.  \n",
            "14. **Harlem**: Rich cultural heritage, soul food, and venues like the Apollo Theater.  \n",
            "\n",
            "### **Hidden Gems & Beyond**  \n",
            "15. **The Cloisters**: Medieval art and architecture in Fort Tryon Park.  \n",
            "16. **DUMBO** (Brooklyn): Cobblestone streets, Brooklyn Bridge Park, and waterfront dining.  \n",
            "17. **Chinatown & Little Italy**: Vibrant dining and cultural experiences.  \n",
            "18. **The Vessel** (Hudson Yards): Unique honeycomb structure (check for reopening).  \n",
            "\n",
            "### **Tips for Visitors**  \n",
            "- **Public Transit**: Use the subway or buses to navigate efficiently.  \n",
            "- **Advance Tickets**: Book popular attractions (Statue of Liberty, museums) ahead to skip lines.  \n",
            "- **Seasonal Events**: Holiday markets (Dec), Macy’s Thanksgiving Parade, summer festivals.  \n",
            "\n",
            "This mix of classic sights and local experiences ensures a memorable NYC trip! 🗽✨\n"
          ]
        }
      ]
    }
  ]
}